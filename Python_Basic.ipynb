{
  "nbformat": 4,
  "nbformat_minor": 0,
  "metadata": {
    "colab": {
      "provenance": [],
      "authorship_tag": "ABX9TyMm+SbpRg+Bs09zFdR6PHQe",
      "include_colab_link": true
    },
    "kernelspec": {
      "name": "python3",
      "display_name": "Python 3"
    },
    "language_info": {
      "name": "python"
    }
  },
  "cells": [
    {
      "cell_type": "markdown",
      "metadata": {
        "id": "view-in-github",
        "colab_type": "text"
      },
      "source": [
        "<a href=\"https://colab.research.google.com/github/Dhiooonn/Python/blob/main/Python_Basic.ipynb\" target=\"_parent\"><img src=\"https://colab.research.google.com/assets/colab-badge.svg\" alt=\"Open In Colab\"/></a>"
      ]
    },
    {
      "cell_type": "markdown",
      "source": [
        "## **Phyton Basic**\n",
        "\n",
        "1. Mengenal functionprint();\n",
        "2. tanda kurung buka\n",
        "3. tanda kutip\n",
        "4. Kalimat 1 Baris, seprti: \"Hello World!\" atau \"Nama Saya\"\n",
        "5. Function beberapa tanda kutip lain\n",
        "6. Tanda kurung tutup\n",
        "\n",
        "\n",
        "\n",
        "\n"
      ],
      "metadata": {
        "id": "6_rcqUhpiYtI"
      }
    },
    {
      "cell_type": "code",
      "source": [
        "print(\"Hello World!\")\n",
        "print(\"Dhion\")"
      ],
      "metadata": {
        "id": "lrXpKDsLj3m2"
      },
      "execution_count": null,
      "outputs": []
    },
    {
      "cell_type": "markdown",
      "source": [
        "Latihan: The print() function\n",
        "\n",
        "\n",
        "*   Cetak Kalimat \"Hello Python!\"\n",
        "*   Cetak nama pertama\n",
        "*   Cetak nama pertama tanpa petik\n",
        "*   apakah ada bedanya double quote (\"\") dan single quote ('')?\n",
        "\n",
        "\n",
        "\n"
      ],
      "metadata": {
        "id": "fkP1otCDj71Y"
      }
    },
    {
      "cell_type": "code",
      "source": [
        "print(\"Hello, Python!\")\n",
        "print(\"Hello, Dhion\")\n",
        "print('Hello, Dhion')"
      ],
      "metadata": {
        "colab": {
          "base_uri": "https://localhost:8080/"
        },
        "id": "i7HqgZZQkrws",
        "outputId": "9d0b735c-eb5c-4583-ed0f-1d57a0a333cb"
      },
      "execution_count": null,
      "outputs": [
        {
          "output_type": "stream",
          "name": "stdout",
          "text": [
            "Hello, Python!\n",
            "Hello, Dhion\n",
            "Hello, Dhion\n"
          ]
        }
      ]
    },
    {
      "cell_type": "markdown",
      "source": [
        "# Formatting dengan special character\n",
        "`' = Karakter spesial \"Escaping nature\"\n",
        "`\\n`= Karakter spesial \"Escaping nature\""
      ],
      "metadata": {
        "id": "LqehgJxSlCos"
      }
    }
  ]
}